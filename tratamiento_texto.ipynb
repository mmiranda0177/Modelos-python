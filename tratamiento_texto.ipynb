{
 "cells": [
  {
   "cell_type": "markdown",
   "metadata": {},
   "source": [
    "# Prueba práctica 1: Modelos supervisados"
   ]
  },
  {
   "cell_type": "markdown",
   "metadata": {},
   "source": [
    "Uno de los estudios que se da mucho en la actualidad trata del llamado `análisis de sentimientos`, que intenta predecir si un texto tiene un sentimiento positivo o negativo, por ejemplo, si hablamos de la visita a un restaurante podemos decir:\n",
    "\n",
    "`La comida estuvo muy buena`--> que se sería una expresión positiva de su visita al restaurante.\n",
    "\n",
    "`La atención fue horrible`--> que se sería una expresión negativa de su visita al restaurante.\n",
    "\n",
    "`Sería malo no volver`--> acá como humanos podríamos decir que la expresión en postiva, pero como le indicamos a la máquina que es positiva tenemos la palabra `malo`.\n",
    "\n",
    "El avance en este campo habla de `ngramas`, `stop word` que ayudan a limpiar el set con el objetivo de lograr un mayor `accuracy` y por consiguiente lograr mejor predicción por ejemplo en el análisis de una candidatura política en base a la opinión de la gente.\n",
    "\n",
    "Por ello en esta evaluación se presenta un caso de `análisis de sentimientos` en base a 3 set de datos traducidos al español que contienen:\n",
    "\n",
    "1.- Revisiones etiquetadas de IMDb, Amazon y Yelp. \n",
    "2.- Cada revisión está marcada con una puntuación de 0 para un sentimiento negativo o 1 para un sentimiento positivo.\n",
    "\n",
    "Esta prueba refuerza los conceptos de _aprendizaje supervisado_ utilizando las librerías de `sklearn`, `pandas`, `numpy` y una librería muy conocida para el análisis de texto como es la `nltk` que pueden instalar todas sus funciones con:\n",
    "\n",
    "conda install -c anaconda nltk\n",
    "\n",
    "conda install stop-words\n",
    "\n",
    "conda install -c anaconda unidecode o pip install Unidecode\n",
    "\n",
    "Si desean mejorar la limpieza del texto pueden instalar la componente `spacy_spanish_lemmatizer` con:\n",
    "\n",
    "pip install spacy-spanish-lemmatizer\n",
    "\n",
    "\n",
    "### Se le pide realizar el análisis de sentimientos con los modelos de machine learning aprendidos en clase,  debe netrenar tres modelos diferentes que tendrán como meta superar el accuracy del modelo inicial de regresión logística realizado. Admás debe agregar el código faltante en cada celda que se solicita, asi como responder las preguntas planteadas\n",
    "\n",
    "Nota: Los análisis de texto se encuentran ya realizados, sólo si desea mejorar puede lematizar el texto (investigue lo que significa)"
   ]
  },
  {
   "cell_type": "code",
   "execution_count": 28,
   "metadata": {},
   "outputs": [],
   "source": [
    "import numpy as np\n",
    "import pandas as pd"
   ]
  },
  {
   "cell_type": "markdown",
   "metadata": {},
   "source": [
    "### complete el código que falta"
   ]
  },
  {
   "cell_type": "code",
   "execution_count": 29,
   "metadata": {},
   "outputs": [
    {
     "name": "stdout",
     "output_type": "stream",
     "text": [
      "sentence    Wow ... Me encantó este lugar.\n",
      "label                                    1\n",
      "source                                yelp\n",
      "Name: 0, dtype: object\n",
      "Número de datos Cargados: 3000\n"
     ]
    },
    {
     "data": {
      "text/html": [
       "<div>\n",
       "<style scoped>\n",
       "    .dataframe tbody tr th:only-of-type {\n",
       "        vertical-align: middle;\n",
       "    }\n",
       "\n",
       "    .dataframe tbody tr th {\n",
       "        vertical-align: top;\n",
       "    }\n",
       "\n",
       "    .dataframe thead th {\n",
       "        text-align: right;\n",
       "    }\n",
       "</style>\n",
       "<table border=\"1\" class=\"dataframe\">\n",
       "  <thead>\n",
       "    <tr style=\"text-align: right;\">\n",
       "      <th></th>\n",
       "      <th>sentence</th>\n",
       "      <th>label</th>\n",
       "      <th>source</th>\n",
       "    </tr>\n",
       "  </thead>\n",
       "  <tbody>\n",
       "    <tr>\n",
       "      <th>190</th>\n",
       "      <td>El reemplazo murió en unas pocas semanas.</td>\n",
       "      <td>0</td>\n",
       "      <td>amazon</td>\n",
       "    </tr>\n",
       "    <tr>\n",
       "      <th>51</th>\n",
       "      <td>Buena protección y no hace que el teléfono sea...</td>\n",
       "      <td>1</td>\n",
       "      <td>amazon</td>\n",
       "    </tr>\n",
       "    <tr>\n",
       "      <th>884</th>\n",
       "      <td>Esta es probablemente una de las películas men...</td>\n",
       "      <td>0</td>\n",
       "      <td>imdb</td>\n",
       "    </tr>\n",
       "    <tr>\n",
       "      <th>602</th>\n",
       "      <td>También tienen el mejor queso crujiente de la ...</td>\n",
       "      <td>1</td>\n",
       "      <td>yelp</td>\n",
       "    </tr>\n",
       "    <tr>\n",
       "      <th>114</th>\n",
       "      <td>Buenos precios.</td>\n",
       "      <td>1</td>\n",
       "      <td>yelp</td>\n",
       "    </tr>\n",
       "  </tbody>\n",
       "</table>\n",
       "</div>"
      ],
      "text/plain": [
       "                                              sentence  label  source\n",
       "190          El reemplazo murió en unas pocas semanas.      0  amazon\n",
       "51   Buena protección y no hace que el teléfono sea...      1  amazon\n",
       "884  Esta es probablemente una de las películas men...      0    imdb\n",
       "602  También tienen el mejor queso crujiente de la ...      1    yelp\n",
       "114                                    Buenos precios.      1    yelp"
      ]
     },
     "execution_count": 29,
     "metadata": {},
     "output_type": "execute_result"
    }
   ],
   "source": [
    "archivos = {'yelp':   'C:/yelp_labelledes.csv',\n",
    "            'amazon': 'C:/amazon_cells_labelledes.csv',\n",
    "            'imdb': 'C:/imdb_labelledes.csv'}\n",
    "\n",
    "data_list = []\n",
    "for source, filepath in archivos.items():\n",
    "    data = pd.read_csv(filepath, names=['sentence', 'label'], sep='\\t')\n",
    "    data['source'] = source  # Add another column filled with the source name\n",
    "    data_list.append(data)\n",
    "\n",
    "data = pd.concat(data_list)\n",
    "print(data.iloc[0])\n",
    "print('Número de datos Cargados: {num}'.format(num=data.shape[0]))\n",
    "data.sample(5)"
   ]
  },
  {
   "cell_type": "markdown",
   "metadata": {},
   "source": [
    "### Que se intenta realizar en la celda:\n",
    "\n",
    "##### Respuesta: ..."
   ]
  },
  {
   "cell_type": "code",
   "execution_count": 30,
   "metadata": {},
   "outputs": [
    {
     "name": "stdout",
     "output_type": "stream",
     "text": [
      "Número de datos a procesar: 3000\n"
     ]
    },
    {
     "data": {
      "text/html": [
       "<div>\n",
       "<style scoped>\n",
       "    .dataframe tbody tr th:only-of-type {\n",
       "        vertical-align: middle;\n",
       "    }\n",
       "\n",
       "    .dataframe tbody tr th {\n",
       "        vertical-align: top;\n",
       "    }\n",
       "\n",
       "    .dataframe thead th {\n",
       "        text-align: right;\n",
       "    }\n",
       "</style>\n",
       "<table border=\"1\" class=\"dataframe\">\n",
       "  <thead>\n",
       "    <tr style=\"text-align: right;\">\n",
       "      <th></th>\n",
       "      <th>sentence</th>\n",
       "      <th>label</th>\n",
       "      <th>source</th>\n",
       "    </tr>\n",
       "  </thead>\n",
       "  <tbody>\n",
       "    <tr>\n",
       "      <th>0</th>\n",
       "      <td>Wow ... Me encantó este lugar.</td>\n",
       "      <td>1</td>\n",
       "      <td>yelp</td>\n",
       "    </tr>\n",
       "    <tr>\n",
       "      <th>1</th>\n",
       "      <td>La corteza no es buena.</td>\n",
       "      <td>0</td>\n",
       "      <td>yelp</td>\n",
       "    </tr>\n",
       "    <tr>\n",
       "      <th>2</th>\n",
       "      <td>No sabroso y la textura era simplemente desagr...</td>\n",
       "      <td>0</td>\n",
       "      <td>yelp</td>\n",
       "    </tr>\n",
       "    <tr>\n",
       "      <th>3</th>\n",
       "      <td>Me detuve durante las vacaciones de fines de m...</td>\n",
       "      <td>1</td>\n",
       "      <td>yelp</td>\n",
       "    </tr>\n",
       "    <tr>\n",
       "      <th>4</th>\n",
       "      <td>La selección en el menú era genial, al igual q...</td>\n",
       "      <td>1</td>\n",
       "      <td>yelp</td>\n",
       "    </tr>\n",
       "  </tbody>\n",
       "</table>\n",
       "</div>"
      ],
      "text/plain": [
       "                                            sentence  label source\n",
       "0                     Wow ... Me encantó este lugar.      1   yelp\n",
       "1                            La corteza no es buena.      0   yelp\n",
       "2  No sabroso y la textura era simplemente desagr...      0   yelp\n",
       "3  Me detuve durante las vacaciones de fines de m...      1   yelp\n",
       "4  La selección en el menú era genial, al igual q...      1   yelp"
      ]
     },
     "execution_count": 30,
     "metadata": {},
     "output_type": "execute_result"
    }
   ],
   "source": [
    "col = ['sentence', 'label','source']\n",
    "data1 = data[col]\n",
    "data1.dropna()\n",
    "data1 = data1[data1['label'].isnull()==False]\n",
    "data1 = data1[data1['sentence'].isnull()==False]\n",
    "print('Número de datos a procesar: {num}'.format(num=data1.shape[0]))\n",
    "data1.head(5)"
   ]
  },
  {
   "cell_type": "markdown",
   "metadata": {},
   "source": [
    "### Que se intenta realizar en la celda:\n",
    "\n",
    "##### Respuesta: ..."
   ]
  },
  {
   "cell_type": "code",
   "execution_count": 31,
   "metadata": {},
   "outputs": [
    {
     "name": "stdout",
     "output_type": "stream",
     "text": [
      "Número de datos a procesar: 2969\n"
     ]
    },
    {
     "data": {
      "text/html": [
       "<div>\n",
       "<style scoped>\n",
       "    .dataframe tbody tr th:only-of-type {\n",
       "        vertical-align: middle;\n",
       "    }\n",
       "\n",
       "    .dataframe tbody tr th {\n",
       "        vertical-align: top;\n",
       "    }\n",
       "\n",
       "    .dataframe thead th {\n",
       "        text-align: right;\n",
       "    }\n",
       "</style>\n",
       "<table border=\"1\" class=\"dataframe\">\n",
       "  <thead>\n",
       "    <tr style=\"text-align: right;\">\n",
       "      <th></th>\n",
       "      <th>label</th>\n",
       "      <th>sentence</th>\n",
       "      <th>source</th>\n",
       "    </tr>\n",
       "  </thead>\n",
       "  <tbody>\n",
       "    <tr>\n",
       "      <th>0</th>\n",
       "      <td>1</td>\n",
       "      <td>Wow ... Me encantó este lugar.</td>\n",
       "      <td>yelp</td>\n",
       "    </tr>\n",
       "    <tr>\n",
       "      <th>1</th>\n",
       "      <td>0</td>\n",
       "      <td>La corteza no es buena.</td>\n",
       "      <td>yelp</td>\n",
       "    </tr>\n",
       "    <tr>\n",
       "      <th>2</th>\n",
       "      <td>0</td>\n",
       "      <td>No sabroso y la textura era simplemente desagr...</td>\n",
       "      <td>yelp</td>\n",
       "    </tr>\n",
       "    <tr>\n",
       "      <th>3</th>\n",
       "      <td>1</td>\n",
       "      <td>Me detuve durante las vacaciones de fines de m...</td>\n",
       "      <td>yelp</td>\n",
       "    </tr>\n",
       "    <tr>\n",
       "      <th>4</th>\n",
       "      <td>1</td>\n",
       "      <td>La selección en el menú era genial, al igual q...</td>\n",
       "      <td>yelp</td>\n",
       "    </tr>\n",
       "  </tbody>\n",
       "</table>\n",
       "</div>"
      ],
      "text/plain": [
       "   label                                           sentence source\n",
       "0      1                     Wow ... Me encantó este lugar.   yelp\n",
       "1      0                            La corteza no es buena.   yelp\n",
       "2      0  No sabroso y la textura era simplemente desagr...   yelp\n",
       "3      1  Me detuve durante las vacaciones de fines de m...   yelp\n",
       "4      1  La selección en el menú era genial, al igual q...   yelp"
      ]
     },
     "execution_count": 31,
     "metadata": {},
     "output_type": "execute_result"
    }
   ],
   "source": [
    "data2 = data1[['label', 'sentence','source']].drop_duplicates(subset=['label', 'sentence', 'source'])\n",
    "\n",
    "#Desbloqueando la siguiente sentencia puede analizar sólo uno de los set de datos.\n",
    "#data2 = data2[data2['source']=='amazon']\n",
    "\n",
    "print('Número de datos a procesar: {num}'.format(num=data2.shape[0]))\n",
    "data2.head(5)\n"
   ]
  },
  {
   "cell_type": "markdown",
   "metadata": {},
   "source": [
    "### Que se intenta realizar en la celda:\n",
    "\n",
    "##### Respuesta: ..."
   ]
  },
  {
   "cell_type": "code",
   "execution_count": 32,
   "metadata": {},
   "outputs": [
    {
     "data": {
      "image/png": "[encoded data removed]",
      "text/plain": [
       "<Figure size 576x432 with 1 Axes>"
      ]
     },
     "metadata": {
      "needs_background": "light"
     },
     "output_type": "display_data"
    }
   ],
   "source": [
    "import matplotlib.pyplot as plt\n",
    "fig = plt.figure(figsize=(8,6))\n",
    "data2.groupby('label').sentence.count().plot.bar(ylim=0)\n",
    "plt.show()"
   ]
  },
  {
   "cell_type": "markdown",
   "metadata": {},
   "source": [
    "### Que se intenta realizar en la celda:\n",
    "\n",
    "##### Respuesta: ..."
   ]
  },
  {
   "cell_type": "code",
   "execution_count": 33,
   "metadata": {},
   "outputs": [
    {
     "name": "stdout",
     "output_type": "stream",
     "text": [
      "Número de comentarios Cargados: 2969\n"
     ]
    }
   ],
   "source": [
    "coment = [tuple(x) for x in data2[['label', 'sentence']].values]\n",
    "print('Número de comentarios Cargados: {num}'.format(num=len(coment)))"
   ]
  },
  {
   "cell_type": "code",
   "execution_count": 34,
   "metadata": {},
   "outputs": [
    {
     "name": "stdout",
     "output_type": "stream",
     "text": [
      "(1, 'El servicio fue muy rápido.')\n"
     ]
    }
   ],
   "source": [
    "print(coment[10])"
   ]
  },
  {
   "cell_type": "markdown",
   "metadata": {},
   "source": [
    "### Intente responder que se esta realizando en la celda de mas abajo (tendrá puntos adicionales si su respuesta es correcta), debe describir paso a paso que se realiza\n",
    "\n",
    "##### Respuesta: ..."
   ]
  },
  {
   "cell_type": "code",
   "execution_count": 35,
   "metadata": {},
   "outputs": [
    {
     "name": "stderr",
     "output_type": "stream",
     "text": [
      "[nltk_data] Downloading package stopwords to\n",
      "[nltk_data]     C:\\Users\\m_mir\\AppData\\Roaming\\nltk_data...\n",
      "[nltk_data]   Package stopwords is already up-to-date!\n"
     ]
    }
   ],
   "source": [
    "import numpy as np\n",
    "import spacy\n",
    "import string\n",
    "import re\n",
    "from unicodedata import normalize\n",
    "\n",
    "# Desbloquee para lematizar\n",
    "#import spacy_spanish_lemmatizer\n",
    "\n",
    "import nltk\n",
    "nltk.download('stopwords')\n",
    "from nltk.tokenize import word_tokenize, sent_tokenize\n",
    "from nltk.corpus import stopwords\n",
    "\n",
    "# Desbloquee para lematizar\n",
    "#nlp = spacy.load(\"es_core_news_sm\")\n",
    "#nlp.replace_pipe(\"lemmatizer\", \"spanish_lemmatizer\")\n",
    "\n",
    "from tqdm import tqdm\n",
    "en_stop = set(stopwords.words('spanish'))\n",
    "#ignore_frase =  [']\n",
    "ignore_words = ['?','!', '¿','¡', 'hola', 'chao','comida', 'bebidas','vino','bistec','tambien','mesa','silla','bastante','cerveza']\n",
    "e_palabra_caracter_intermedio = [\"@\",\"°\", \"º\",\"_\"]\n",
    "e_palabra_caracter_inicial = [\"http\", \"https\", \"º\", \"°\"]\n",
    "e_palabra_caracter_final = [\".com\",\".cl\",\".org\",\"º\", \"°\"]\n",
    "\n",
    "X = [doc[1] for doc in coment]\n",
    "y = np.array([doc[0] for doc in coment])\n",
    "\n",
    "\n",
    "def normalizar(sentenses):\n",
    "    \"\"\"normalizamos la lista de frases y devolvemos la misma lista de frases normalizada\"\"\"\n",
    "    for index, sentense in enumerate(tqdm(sentenses)):\n",
    "        lema = ''\n",
    "        if type(sentense) != int:\n",
    "            s = re.sub(\n",
    "                    r\"([^n\\u0300-\\u036f]|n(?!\\u0303(?![\\u0300-\\u036f])))[\\u0300-\\u036f]+\", r\"\\1\", \n",
    "                    normalize( 'NFD', sentense), 0, re.I\n",
    "                )\n",
    "            sentense = normalize( 'NFC', s)\n",
    "            regex = re.compile(\"|\".join(f\"\\S+{cad}\\S+\" for cad in e_palabra_caracter_intermedio))\n",
    "            sentense = regex.sub(\"\", sentense)\n",
    "            regex = re.compile(\"|\".join(f\"{cad}\\S+\" for cad in e_palabra_caracter_inicial))\n",
    "            sentense = regex.sub(\"\", sentense)\n",
    "            regex = re.compile('|'.join(f\"\\S+{cad}\" for cad in e_palabra_caracter_final))\n",
    "            sentense = regex.sub(\"\", sentense).replace(\"  \", \" \")\n",
    "            t = str.maketrans(dict.fromkeys('0123456789',\"\"))\n",
    "            sentense = sentense.lower().replace('.','. ').replace('\\xa0','. ').replace('-','. ').replace('\\n','').strip()\n",
    "            \n",
    "            #Si desea eliminar frases puede desbloquear las siguiente sentencias\n",
    "            #sentense = sentense.translate(t)\n",
    "            #sentense = sent_tokenize(sentense)\n",
    "            #sentense = ''.join([fra for fra in sentense if fra not in ignore_frase])\n",
    "            \n",
    "            sentense = sentense.replace('.',' ').replace('-','').replace('\"','').replace('º','').replace('°','').strip()\n",
    "            sentense = sentense.translate(t)\n",
    "            word_tokens = word_tokenize(sentense)\n",
    "\n",
    "            sentenses[index] = ' '.join([word for word in word_tokens if word not in ignore_words \n",
    "                                        and word not in en_stop\n",
    "                                        and word not in string.punctuation])\n",
    "\n",
    "            #Si desea lematizar puede desbloquear las siguientes sentencias y cambiar la sentencia de arriba por \"sentense =\"\"\n",
    "            # dado que el lema sería el encargado de colocar el dato final en el vector  sentenses[index](advertencia es muy lento)\n",
    "           # for token in nlp(sentense):\n",
    "            #    lema = lema + ' ' + token.lemma_\n",
    "            #sentenses[index] = lema\n",
    "\n",
    "    return sentenses\n"
   ]
  },
  {
   "cell_type": "code",
   "execution_count": 36,
   "metadata": {},
   "outputs": [
    {
     "name": "stderr",
     "output_type": "stream",
     "text": [
      "100%|████████████████████████████████████████████████████████████████████████████| 2969/2969 [00:00<00:00, 3775.44it/s]\n"
     ]
    }
   ],
   "source": [
    "## Normalizo mi set de datos\n",
    "X_norm = normalizar(X)"
   ]
  },
  {
   "cell_type": "code",
   "execution_count": 37,
   "metadata": {},
   "outputs": [
    {
     "name": "stdout",
     "output_type": "stream",
     "text": [
      "buena seleccion buena seleccion ida\n",
      "(1, 'Buena cerveza y selección de bebidas y buena selección de comida.')\n",
      "buena seleccion buena seleccion ida\n",
      "1\n"
     ]
    }
   ],
   "source": [
    "#Imprimo algún dato para saber como quedó después de la normalización\n",
    "print(X_norm[300])\n",
    "print(coment[300])\n",
    "print(X[300])\n",
    "print(y[300])"
   ]
  },
  {
   "cell_type": "markdown",
   "metadata": {},
   "source": [
    "### Que se realiza en la siguiente celda?. Fundamente su respuesta técnicamente\n",
    "\n",
    "##### Respuesta: ..."
   ]
  },
  {
   "cell_type": "code",
   "execution_count": 38,
   "metadata": {},
   "outputs": [
    {
     "name": "stdout",
     "output_type": "stream",
     "text": [
      "comentarios de entrenamiento: 2375\n",
      "comentarios de Test: 594\n"
     ]
    }
   ],
   "source": [
    "from sklearn.model_selection import train_test_split\n",
    "seed = 1500\n",
    "validation_size = 0.2\n",
    "X_train, X_test, y_train, y_test = train_test_split(X_norm,y,test_size=validation_size, shuffle=True, random_state=seed)\n",
    "print('comentarios de entrenamiento: {}'.format(len(X_train)))\n",
    "print('comentarios de Test: {}'.format(len(X_test)))"
   ]
  },
  {
   "cell_type": "markdown",
   "metadata": {},
   "source": [
    "### Invetigue lo que realiza la celda siguiente. Tendrá puntos adicionales\n",
    "\n",
    "##### Respuesta: ..."
   ]
  },
  {
   "cell_type": "code",
   "execution_count": 39,
   "metadata": {},
   "outputs": [
    {
     "name": "stdout",
     "output_type": "stream",
     "text": [
      "(2375, 5707)\n",
      "(594, 5707)\n"
     ]
    }
   ],
   "source": [
    "from sklearn.feature_extraction.text import TfidfVectorizer\n",
    "\n",
    "vectorizer = TfidfVectorizer()\n",
    "vectorizer.fit(X_norm)\n",
    "X_train_V = vectorizer.transform (X_train)\n",
    "X_test_V = vectorizer.transform (X_test)\n",
    "print(X_train_V.shape)\n",
    "print(X_test_V.shape)"
   ]
  },
  {
   "cell_type": "markdown",
   "metadata": {},
   "source": [
    "### En este punto comienza el programa, con definiciones de componentes y funciones"
   ]
  },
  {
   "cell_type": "code",
   "execution_count": 40,
   "metadata": {},
   "outputs": [],
   "source": [
    "from sklearn.model_selection import GridSearchCV, StratifiedKFold\n",
    "from sklearn.metrics import classification_report\n",
    "from sklearn.metrics import confusion_matrix\n",
    "from sklearn.linear_model import LogisticRegression\n",
    "import itertools\n",
    "\n",
    "LABELS = [\"Sentimiento Negativo\",\"Sentimiento Positivo\"]\n",
    "scoring_def = 'accuracy'\n",
    "skf = StratifiedKFold(n_splits=4)\n",
    "\n",
    "def plot_confusion_matrix(cm, classes,\n",
    "                          normalize=False,\n",
    "                          title='Confusion matrix',\n",
    "                          cmap=plt.cm.Blues):\n",
    "    if normalize:\n",
    "        cm = cm.astype('float') / cm.sum(axis=1)[:, np.newaxis]\n",
    "        print('Matriz de confusión Normalizada')\n",
    "    else:\n",
    "        print('Matriz de confusión sin normalizar')\n",
    "\n",
    "    print(cm)\n",
    "\n",
    "    plt.imshow(cm, interpolation='nearest', cmap=cmap)\n",
    "    plt.title(title)\n",
    "    plt.colorbar()\n",
    "    tick_marks = np.arange(len(classes))\n",
    "    plt.xticks(tick_marks, classes, rotation=45)\n",
    "    plt.yticks(tick_marks, classes)\n",
    "\n",
    "    fmt = '.2f' if normalize else 'd'\n",
    "    thresh = cm.max() / 2.\n",
    "    for i, j in itertools.product(range(cm.shape[0]), range(cm.shape[1])):\n",
    "        plt.text(j, i, format(cm[i, j], fmt),\n",
    "                 horizontalalignment=\"center\",\n",
    "                 color=\"white\" if cm[i, j] > thresh else \"black\")\n",
    "\n",
    "    plt.tight_layout()\n",
    "    plt.ylabel('True label')\n",
    "    plt.xlabel('Predicted label')"
   ]
  },
  {
   "cell_type": "markdown",
   "metadata": {},
   "source": [
    "### La siguiente celda cuenta tiene un el código de una regresión logística aplicada al análisis de sentimientos la que genera una predicción bastante baja aproximadamente un 52% de accuracy lo que es muy bajo.\n",
    "\n",
    "### Su meta en esta prueba es superar este bajo accuracy entrenando mínimamente tres modelos\n"
   ]
  },
  {
   "cell_type": "code",
   "execution_count": 41,
   "metadata": {},
   "outputs": [
    {
     "data": {
      "text/plain": [
       "LogisticRegression(C=1.0, class_weight=None, dual=False, fit_intercept=True,\n",
       "                   intercept_scaling=1, l1_ratio=None, max_iter=100,\n",
       "                   multi_class='auto', n_jobs=None, penalty='l2',\n",
       "                   random_state=None, solver='lbfgs', tol=0.0001, verbose=0,\n",
       "                   warm_start=False)"
      ]
     },
     "execution_count": 41,
     "metadata": {},
     "output_type": "execute_result"
    }
   ],
   "source": [
    "#params = {\"max_iter\": [100],\n",
    "#          \"penalty\": ['l1', 'l2'],\n",
    "#          \"class_weight\": ['None','balanced'],\n",
    "#          \"solver\" : ['newton-cg','lbfgs','liblinear','sag','saga'],\n",
    "#          \"C\": [1, 2, 3]} \n",
    "\n",
    "model_ml = LogisticRegression() \n",
    "#grid = GridSearchCV(estimator=model_ml, param_grid=params,cv=skf, scoring=scoring_def)\n",
    "#grid.fit(X_train_V, y_train)\n",
    "model_ml.fit(X_train_V, y_train)"
   ]
  },
  {
   "cell_type": "code",
   "execution_count": 42,
   "metadata": {},
   "outputs": [
    {
     "name": "stdout",
     "output_type": "stream",
     "text": [
      "Mejor scoring de acuerdo a la medida seleccionada:  accuracy\n",
      "<bound method ClassifierMixin.score of LogisticRegression(C=1.0, class_weight=None, dual=False, fit_intercept=True,\n",
      "                   intercept_scaling=1, l1_ratio=None, max_iter=100,\n",
      "                   multi_class='auto', n_jobs=None, penalty='l2',\n",
      "                   random_state=None, solver='lbfgs', tol=0.0001, verbose=0,\n",
      "                   warm_start=False)>\n",
      "              precision    recall  f1-score   support\n",
      "\n",
      "           0       0.76      0.78      0.77       304\n",
      "           1       0.76      0.74      0.75       290\n",
      "\n",
      "    accuracy                           0.76       594\n",
      "   macro avg       0.76      0.76      0.76       594\n",
      "weighted avg       0.76      0.76      0.76       594\n",
      "\n",
      "Matriz de confusión sin normalizar\n",
      "[[237  67]\n",
      " [ 75 215]]\n"
     ]
    },
    {
     "data": {
      "image/png": "[encoded data removed]",
      "text/plain": [
       "<Figure size 432x288 with 2 Axes>"
      ]
     },
     "metadata": {
      "needs_background": "light"
     },
     "output_type": "display_data"
    }
   ],
   "source": [
    "print(\"Mejor scoring de acuerdo a la medida seleccionada: \", scoring_def)\n",
    "#print(grid.best_score_)\n",
    "print(model_ml.score)\n",
    "#print(\"Parámetros del mejor modelo\")\n",
    "#print(grid.best_params_)\n",
    "#Yhat = grid.best_estimator_.predict(X_test_V)\n",
    "Yhat = model_ml.predict(X_test_V)\n",
    "print(classification_report(y_test, Yhat))\n",
    "cnf_matrix = confusion_matrix(y_test, Yhat)\n",
    "plt.figure()\n",
    "plot_confusion_matrix(cnf_matrix, classes=LABELS,\n",
    "                      title='Matriz de confusión')\n",
    "plt.show()"
   ]
  },
  {
   "cell_type": "code",
   "execution_count": 43,
   "metadata": {},
   "outputs": [
    {
     "name": "stderr",
     "output_type": "stream",
     "text": [
      "100%|████████████████████████████████████████████████████████████████████████████████████████████| 1/1 [00:00<?, ?it/s]"
     ]
    },
    {
     "name": "stdout",
     "output_type": "stream",
     "text": [
      "Opinión:  ['creo pitch black hizo bien']\n",
      "Sentimiento real:  1\n",
      "Sentimiento predicho:  [1]\n"
     ]
    },
    {
     "name": "stderr",
     "output_type": "stream",
     "text": [
      "\n"
     ]
    }
   ],
   "source": [
    "#También puede colocar una opinión nueva entre []\n",
    "opinion = [X_test[297]]\n",
    "opinion_norm = vectorizer.transform (normalizar(opinion))\n",
    "pred = grid.best_estimator_.predict(opinion_norm)\n",
    "print(\"Opinión: \", opinion)\n",
    "print(\"Sentimiento real: \", y_test[297])\n",
    "print(\"Sentimiento predicho: \", pred)"
   ]
  }
 ],
 "metadata": {
  "kernelspec": {
   "display_name": "Python 3",
   "language": "python",
   "name": "python3"
  },
  "language_info": {
   "codemirror_mode": {
    "name": "ipython",
    "version": 3
   },
   "file_extension": ".py",
   "mimetype": "text/x-python",
   "name": "python",
   "nbconvert_exporter": "python",
   "pygments_lexer": "ipython3",
   "version": "3.7.6"
  }
 },
 "nbformat": 4,
 "nbformat_minor": 4
}
